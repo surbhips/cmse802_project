{
 "cells": [
  {
   "cell_type": "code",
   "execution_count": 1,
   "id": "93109c00-e00b-4cc0-80bc-b4def5694601",
   "metadata": {},
   "outputs": [
    {
     "name": "stdout",
     "output_type": "stream",
     "text": [
      "Requirement already satisfied: pytest in /mnt/home/punhani1/.conda/envs/cmse802/lib/python3.11/site-packages (8.3.5)\n",
      "Requirement already satisfied: iniconfig in /mnt/home/punhani1/.conda/envs/cmse802/lib/python3.11/site-packages (from pytest) (2.1.0)\n",
      "Requirement already satisfied: packaging in /mnt/home/punhani1/.conda/envs/cmse802/lib/python3.11/site-packages (from pytest) (25.0)\n",
      "Requirement already satisfied: pluggy<2,>=1.5 in /mnt/home/punhani1/.conda/envs/cmse802/lib/python3.11/site-packages (from pytest) (1.5.0)\n",
      "Note: you may need to restart the kernel to use updated packages.\n"
     ]
    }
   ],
   "source": [
    "pip install pytest"
   ]
  },
  {
   "cell_type": "code",
   "execution_count": 2,
   "id": "d780fe55-ca6e-40a4-b3e2-5b43fc9daa14",
   "metadata": {},
   "outputs": [],
   "source": [
    "#link the src folder\n",
    "import sys\n",
    "sys.path.append('..')\n",
    "import src"
   ]
  },
  {
   "cell_type": "code",
   "execution_count": 3,
   "id": "aadff557-c5f9-458b-bdff-5a6f573e90df",
   "metadata": {},
   "outputs": [],
   "source": [
    "from src.preprocessing import load_data\n",
    "from src.preprocessing import split_train_test_data\n",
    "from src.preprocessing import check_outliers\n",
    "from src.preprocessing import build_preprocessing_pipeline"
   ]
  },
  {
   "cell_type": "code",
   "execution_count": 4,
   "id": "87740de8-e3f8-4b5b-a6f2-c6d7a9cbb289",
   "metadata": {},
   "outputs": [
    {
     "name": "stdout",
     "output_type": "stream",
     "text": [
      "\u001b[1m============================= test session starts ==============================\u001b[0m\n",
      "platform linux -- Python 3.11.11, pytest-8.3.5, pluggy-1.5.0 -- /mnt/home/punhani1/.conda/envs/cmse802/bin/python\n",
      "cachedir: .pytest_cache\n",
      "rootdir: /mnt/ufs18/rs-023/CMSE802_SS25_001/schillinger_surbhi/cmse802_project/tests\n",
      "plugins: anyio-4.8.0\n",
      "collected 8 items. \u001b[0m\n",
      "\n",
      "\u001b[32mPASSED\u001b[0m\u001b[32m                                [ 12%]\u001b[0m\n",
      "\u001b[32mPASSED\u001b[0m\u001b[32m                       [ 25%]\u001b[0m\n",
      "\u001b[32mPASSED\u001b[0m\u001b[32m                    [ 37%]\u001b[0m\n",
      "\u001b[32mPASSED\u001b[0m\u001b[32m                    [ 50%]\u001b[0m\n",
      "\u001b[32mPASSED\u001b[0m\u001b[32m                     [ 62%]\u001b[0m\n",
      "\u001b[32mPASSED\u001b[0m\u001b[32m                   [ 75%]\u001b[0m\n",
      "\u001b[32mPASSED\u001b[0m\u001b[32m                        [ 87%]\u001b[0m\n",
      "\u001b[32mPASSED\u001b[0m\u001b[32m              [100%]\u001b[0mine_runs \n",
      "\n",
      "\u001b[32m============================== \u001b[32m\u001b[1m8 passed\u001b[0m\u001b[32m in 0.11s\u001b[0m\u001b[32m ===============================\u001b[0m\n"
     ]
    },
    {
     "data": {
      "text/plain": [
       "<ExitCode.OK: 0>"
      ]
     },
     "execution_count": 4,
     "metadata": {},
     "output_type": "execute_result"
    }
   ],
   "source": [
    "import pytest\n",
    "pytest.main([\"test_case.py\", \"-v\"])"
   ]
  },
  {
   "cell_type": "code",
   "execution_count": null,
   "id": "036d5420-25b2-4e0f-82b7-e4ba2248d67e",
   "metadata": {},
   "outputs": [],
   "source": []
  }
 ],
 "metadata": {
  "kernelspec": {
   "display_name": "Python (cmse802)",
   "language": "python",
   "name": "cmse802"
  },
  "language_info": {
   "codemirror_mode": {
    "name": "ipython",
    "version": 3
   },
   "file_extension": ".py",
   "mimetype": "text/x-python",
   "name": "python",
   "nbconvert_exporter": "python",
   "pygments_lexer": "ipython3",
   "version": "3.11.11"
  }
 },
 "nbformat": 4,
 "nbformat_minor": 5
}
